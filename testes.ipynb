{
 "cells": [
  {
   "cell_type": "code",
   "execution_count": null,
   "metadata": {},
   "outputs": [
    {
     "name": "stderr",
     "output_type": "stream",
     "text": [
      "<>:55: SyntaxWarning: invalid escape sequence '\\E'\n",
      "<>:55: SyntaxWarning: invalid escape sequence '\\E'\n",
      "/var/folders/fj/fs0rn0ld02j8qmwsqp2pc73c0000gn/T/ipykernel_11717/3067880418.py:55: SyntaxWarning: invalid escape sequence '\\E'\n",
      "  print(\"\\Erro ao consultar sites:\", site_response.status_code)\n",
      "/var/folders/fj/fs0rn0ld02j8qmwsqp2pc73c0000gn/T/ipykernel_11717/3067880418.py:55: SyntaxWarning: invalid escape sequence '\\E'\n",
      "  print(\"\\Erro ao consultar sites:\", site_response.status_code)\n"
     ]
    },
    {
     "ename": "ModuleNotFoundError",
     "evalue": "No module named 'streamlit'",
     "output_type": "error",
     "traceback": [
      "\u001b[0;31m---------------------------------------------------------------------------\u001b[0m",
      "\u001b[0;31mModuleNotFoundError\u001b[0m                       Traceback (most recent call last)",
      "Cell \u001b[0;32mIn[38], line 2\u001b[0m\n\u001b[1;32m      1\u001b[0m \u001b[38;5;28;01mimport\u001b[39;00m\u001b[38;5;250m \u001b[39m\u001b[38;5;21;01mrequests\u001b[39;00m\n\u001b[0;32m----> 2\u001b[0m \u001b[38;5;28;01mimport\u001b[39;00m\u001b[38;5;250m \u001b[39m\u001b[38;5;21;01mstreamlit\u001b[39;00m\u001b[38;5;250m \u001b[39m\u001b[38;5;28;01mas\u001b[39;00m\u001b[38;5;250m \u001b[39m\u001b[38;5;21;01mst\u001b[39;00m\n\u001b[1;32m      5\u001b[0m \u001b[38;5;66;03m# Aplicacao web\u001b[39;00m\n\u001b[1;32m      6\u001b[0m st\u001b[38;5;241m.\u001b[39mimage(\u001b[38;5;124m\"\u001b[39m\u001b[38;5;124mhttps://i.imgur.com/SmdDIH.png\u001b[39m\u001b[38;5;124m\"\u001b[39m)\n",
      "\u001b[0;31mModuleNotFoundError\u001b[0m: No module named 'streamlit'"
     ]
    }
   ],
   "source": [
    "import requests\n",
    "import streamlit as st\n",
    "\n",
    "\n",
    "# Aplicacao web\n",
    "st.image(\"https://i.imgur.com/SmdDIH.png\")\n",
    "st.title(\"Busca Device\")\n",
    "\n",
    "tenant = st.text_input(\"Digite o nome do Cliente: \", key={tenant_name})\n",
    "site = st.text_input(\"Selecione o nome do site\")\n",
    "\n",
    "NETBOX_URL = \"https://docs.k3gsolutions.com.br/api\"  # URL base do NetBox\n",
    "API_TOKEN = \"b16412d4dc73d4d9f820e79461e13b3faa6953ac\"  # Token de autenticação\n",
    "\n",
    "TENANT_LIST_URL = f\"{NETBOX_URL}/tenancy/tenants/\"  # Endpoint para prefix-lists\n",
    "COMMUNITY_URL = f\"{NETBOX_URL}/plugins/bgp/community/\"  # Endpoint para community\n",
    "SITE_URL = f\"{NETBOX_URL}/dcim/sites/\"  # Endpoint para sites\n",
    "\n",
    "\n",
    "# Cabeçalhos da requisição\n",
    "HEADERS = {\n",
    "    \"Authorization\": f\"Token {API_TOKEN}\",\n",
    "    \"Content-Type\": \"application/json\",\n",
    "    \"Accept\": \"application/json\"\n",
    "}\n",
    "\n",
    "\n",
    "tenants = []\n",
    "next_url = TENANT_LIST_URL\n",
    "\n",
    "while next_url:\n",
    "    response = requests.get(next_url, headers=HEADERS)\n",
    "    if response.status_code != 200:\n",
    "        print(\"Erro na consulta de tenants:\", response.status_code)\n",
    "        break\n",
    "    data = response.json()\n",
    "    tenants.extend(data.get(\"results\", []))\n",
    "    next_url = data.get(\"next\")\n",
    "\n",
    "for tenant in tenants:\n",
    "    tenant_id = tenant.get(\"id\")\n",
    "    tenant_name = tenant.get(\"name\")\n",
    "    print(f\"Telant ID: {tenant_id} | Nome: {tenant_name}\")\n",
    "\n",
    "    # URL para filtrar sites pelo tenant_id\n",
    "    sites_filtrados_url = f\"{SITE_URL}?tenant_id={tenant_id}\"\n",
    "\n",
    "    # Lista para armazenar sites deste tenant\n",
    "    tenant_sites = []\n",
    "    next_site_url = sites_filtrados_url\n",
    "\n",
    "    while next_site_url:\n",
    "        site_response = response.get(next_site_url, headers=HEADERS)\n",
    "        if site_response.status_code != 200:\n",
    "            print(\"\\Erro ao consultar sites:\", site_response.status_code)\n",
    "            break\n",
    "        site_data = site_response.json()\n",
    "        tenant_sites.extend(site_data.get(\"results\", []))\n",
    "        next_site_url = site_data.get(\"next\")\n",
    "    \n",
    "    # Verifica se há sites para o tenant\n",
    "    if tenant_sites:\n",
    "        for site in tenant_sites:\n",
    "            print(f\"\\tSite ID: {site.get(\"id\")} | Nome: {site.get('name')}\")\n",
    "    else:\n",
    "        print(f\"\\tNenhum site encontrado para este tenant.\")\n",
    "\n",
    "\n",
    "\n",
    "\n",
    "\n"
   ]
  },
  {
   "cell_type": "code",
   "execution_count": null,
   "metadata": {},
   "outputs": [],
   "source": []
  },
  {
   "cell_type": "markdown",
   "metadata": {},
   "source": []
  }
 ],
 "metadata": {
  "kernelspec": {
   "display_name": "3.12.8",
   "language": "python",
   "name": "python3"
  },
  "language_info": {
   "codemirror_mode": {
    "name": "ipython",
    "version": 3
   },
   "file_extension": ".py",
   "mimetype": "text/x-python",
   "name": "python",
   "nbconvert_exporter": "python",
   "pygments_lexer": "ipython3",
   "version": "3.12.8"
  }
 },
 "nbformat": 4,
 "nbformat_minor": 2
}
